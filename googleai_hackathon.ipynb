{
  "nbformat": 4,
  "nbformat_minor": 0,
  "metadata": {
    "colab": {
      "provenance": [],
      "toc_visible": true,
      "authorship_tag": "ABX9TyNTss0ArOLxT++bRESz69Xq",
      "include_colab_link": true
    },
    "kernelspec": {
      "name": "python3",
      "display_name": "Python 3"
    },
    "language_info": {
      "name": "python"
    }
  },
  "cells": [
    {
      "cell_type": "markdown",
      "metadata": {
        "id": "view-in-github",
        "colab_type": "text"
      },
      "source": [
        "<a href=\"https://colab.research.google.com/github/tesims/automated-video-editor/blob/main/googleai_hackathon.ipynb\" target=\"_parent\"><img src=\"https://colab.research.google.com/assets/colab-badge.svg\" alt=\"Open In Colab\"/></a>"
      ]
    },
    {
      "cell_type": "code",
      "source": [
        "!pip install llama-index llama-index-postprocessor-presidio\n",
        "!python -m spacy download en_core_web_lg"
      ],
      "metadata": {
        "colab": {
          "base_uri": "https://localhost:8080/"
        },
        "id": "dvpKWA8cf87-",
        "outputId": "a9c7212b-bf2a-4df8-f9a8-c020d7db28ae"
      },
      "execution_count": null,
      "outputs": [
        {
          "output_type": "stream",
          "name": "stdout",
          "text": [
            "Requirement already satisfied: llama-index in /usr/local/lib/python3.10/dist-packages (0.10.28)\n",
            "Requirement already satisfied: llama-index-postprocessor-presidio in /usr/local/lib/python3.10/dist-packages (0.1.1)\n",
            "Requirement already satisfied: llama-index-agent-openai<0.3.0,>=0.1.4 in /usr/local/lib/python3.10/dist-packages (from llama-index) (0.2.2)\n",
            "Requirement already satisfied: llama-index-cli<0.2.0,>=0.1.2 in /usr/local/lib/python3.10/dist-packages (from llama-index) (0.1.11)\n",
            "Requirement already satisfied: llama-index-core<0.11.0,>=0.10.28 in /usr/local/lib/python3.10/dist-packages (from llama-index) (0.10.28)\n",
            "Requirement already satisfied: llama-index-embeddings-openai<0.2.0,>=0.1.5 in /usr/local/lib/python3.10/dist-packages (from llama-index) (0.1.7)\n",
            "Requirement already satisfied: llama-index-indices-managed-llama-cloud<0.2.0,>=0.1.2 in /usr/local/lib/python3.10/dist-packages (from llama-index) (0.1.5)\n",
            "Requirement already satisfied: llama-index-legacy<0.10.0,>=0.9.48 in /usr/local/lib/python3.10/dist-packages (from llama-index) (0.9.48)\n",
            "Requirement already satisfied: llama-index-llms-openai<0.2.0,>=0.1.13 in /usr/local/lib/python3.10/dist-packages (from llama-index) (0.1.15)\n",
            "Requirement already satisfied: llama-index-multi-modal-llms-openai<0.2.0,>=0.1.3 in /usr/local/lib/python3.10/dist-packages (from llama-index) (0.1.5)\n",
            "Requirement already satisfied: llama-index-program-openai<0.2.0,>=0.1.3 in /usr/local/lib/python3.10/dist-packages (from llama-index) (0.1.5)\n",
            "Requirement already satisfied: llama-index-question-gen-openai<0.2.0,>=0.1.2 in /usr/local/lib/python3.10/dist-packages (from llama-index) (0.1.3)\n",
            "Requirement already satisfied: llama-index-readers-file<0.2.0,>=0.1.4 in /usr/local/lib/python3.10/dist-packages (from llama-index) (0.1.17)\n",
            "Requirement already satisfied: llama-index-readers-llama-parse<0.2.0,>=0.1.2 in /usr/local/lib/python3.10/dist-packages (from llama-index) (0.1.4)\n",
            "Requirement already satisfied: presidio-analyzer<3.0.0,>=2.2.353 in /usr/local/lib/python3.10/dist-packages (from llama-index-postprocessor-presidio) (2.2.354)\n",
            "Requirement already satisfied: presidio-anonymizer<3.0.0,>=2.2.353 in /usr/local/lib/python3.10/dist-packages (from llama-index-postprocessor-presidio) (2.2.354)\n",
            "Requirement already satisfied: openai>=1.14.0 in /usr/local/lib/python3.10/dist-packages (from llama-index-agent-openai<0.3.0,>=0.1.4->llama-index) (1.17.1)\n",
            "Requirement already satisfied: PyYAML>=6.0.1 in /usr/local/lib/python3.10/dist-packages (from llama-index-core<0.11.0,>=0.10.28->llama-index) (6.0.1)\n",
            "Requirement already satisfied: SQLAlchemy[asyncio]>=1.4.49 in /usr/local/lib/python3.10/dist-packages (from llama-index-core<0.11.0,>=0.10.28->llama-index) (2.0.29)\n",
            "Requirement already satisfied: aiohttp<4.0.0,>=3.8.6 in /usr/local/lib/python3.10/dist-packages (from llama-index-core<0.11.0,>=0.10.28->llama-index) (3.9.3)\n",
            "Requirement already satisfied: dataclasses-json in /usr/local/lib/python3.10/dist-packages (from llama-index-core<0.11.0,>=0.10.28->llama-index) (0.6.4)\n",
            "Requirement already satisfied: deprecated>=1.2.9.3 in /usr/local/lib/python3.10/dist-packages (from llama-index-core<0.11.0,>=0.10.28->llama-index) (1.2.14)\n",
            "Requirement already satisfied: dirtyjson<2.0.0,>=1.0.8 in /usr/local/lib/python3.10/dist-packages (from llama-index-core<0.11.0,>=0.10.28->llama-index) (1.0.8)\n",
            "Requirement already satisfied: fsspec>=2023.5.0 in /usr/local/lib/python3.10/dist-packages (from llama-index-core<0.11.0,>=0.10.28->llama-index) (2023.6.0)\n",
            "Requirement already satisfied: httpx in /usr/local/lib/python3.10/dist-packages (from llama-index-core<0.11.0,>=0.10.28->llama-index) (0.27.0)\n",
            "Requirement already satisfied: llamaindex-py-client<0.2.0,>=0.1.16 in /usr/local/lib/python3.10/dist-packages (from llama-index-core<0.11.0,>=0.10.28->llama-index) (0.1.18)\n",
            "Requirement already satisfied: nest-asyncio<2.0.0,>=1.5.8 in /usr/local/lib/python3.10/dist-packages (from llama-index-core<0.11.0,>=0.10.28->llama-index) (1.6.0)\n",
            "Requirement already satisfied: networkx>=3.0 in /usr/local/lib/python3.10/dist-packages (from llama-index-core<0.11.0,>=0.10.28->llama-index) (3.3)\n",
            "Requirement already satisfied: nltk<4.0.0,>=3.8.1 in /usr/local/lib/python3.10/dist-packages (from llama-index-core<0.11.0,>=0.10.28->llama-index) (3.8.1)\n",
            "Requirement already satisfied: numpy in /usr/local/lib/python3.10/dist-packages (from llama-index-core<0.11.0,>=0.10.28->llama-index) (1.25.2)\n",
            "Requirement already satisfied: pandas in /usr/local/lib/python3.10/dist-packages (from llama-index-core<0.11.0,>=0.10.28->llama-index) (2.0.3)\n",
            "Requirement already satisfied: pillow>=9.0.0 in /usr/local/lib/python3.10/dist-packages (from llama-index-core<0.11.0,>=0.10.28->llama-index) (9.4.0)\n",
            "Requirement already satisfied: requests>=2.31.0 in /usr/local/lib/python3.10/dist-packages (from llama-index-core<0.11.0,>=0.10.28->llama-index) (2.31.0)\n",
            "Requirement already satisfied: tenacity<9.0.0,>=8.2.0 in /usr/local/lib/python3.10/dist-packages (from llama-index-core<0.11.0,>=0.10.28->llama-index) (8.2.3)\n",
            "Requirement already satisfied: tiktoken>=0.3.3 in /usr/local/lib/python3.10/dist-packages (from llama-index-core<0.11.0,>=0.10.28->llama-index) (0.6.0)\n",
            "Requirement already satisfied: tqdm<5.0.0,>=4.66.1 in /usr/local/lib/python3.10/dist-packages (from llama-index-core<0.11.0,>=0.10.28->llama-index) (4.66.2)\n",
            "Requirement already satisfied: typing-extensions>=4.5.0 in /usr/local/lib/python3.10/dist-packages (from llama-index-core<0.11.0,>=0.10.28->llama-index) (4.11.0)\n",
            "Requirement already satisfied: typing-inspect>=0.8.0 in /usr/local/lib/python3.10/dist-packages (from llama-index-core<0.11.0,>=0.10.28->llama-index) (0.9.0)\n",
            "Requirement already satisfied: wrapt in /usr/local/lib/python3.10/dist-packages (from llama-index-core<0.11.0,>=0.10.28->llama-index) (1.14.1)\n",
            "Requirement already satisfied: beautifulsoup4<5.0.0,>=4.12.3 in /usr/local/lib/python3.10/dist-packages (from llama-index-readers-file<0.2.0,>=0.1.4->llama-index) (4.12.3)\n",
            "Requirement already satisfied: pypdf<5.0.0,>=4.0.1 in /usr/local/lib/python3.10/dist-packages (from llama-index-readers-file<0.2.0,>=0.1.4->llama-index) (4.2.0)\n",
            "Requirement already satisfied: striprtf<0.0.27,>=0.0.26 in /usr/local/lib/python3.10/dist-packages (from llama-index-readers-file<0.2.0,>=0.1.4->llama-index) (0.0.26)\n",
            "Requirement already satisfied: llama-parse<0.5.0,>=0.4.0 in /usr/local/lib/python3.10/dist-packages (from llama-index-readers-llama-parse<0.2.0,>=0.1.2->llama-index) (0.4.0)\n",
            "Requirement already satisfied: spacy<4.0.0,>=3.4.4 in /usr/local/lib/python3.10/dist-packages (from presidio-analyzer<3.0.0,>=2.2.353->llama-index-postprocessor-presidio) (3.7.4)\n",
            "Requirement already satisfied: regex in /usr/local/lib/python3.10/dist-packages (from presidio-analyzer<3.0.0,>=2.2.353->llama-index-postprocessor-presidio) (2023.12.25)\n",
            "Requirement already satisfied: tldextract in /usr/local/lib/python3.10/dist-packages (from presidio-analyzer<3.0.0,>=2.2.353->llama-index-postprocessor-presidio) (5.1.2)\n",
            "Requirement already satisfied: phonenumbers<9.0.0,>=8.12 in /usr/local/lib/python3.10/dist-packages (from presidio-analyzer<3.0.0,>=2.2.353->llama-index-postprocessor-presidio) (8.13.34)\n",
            "Requirement already satisfied: pycryptodome>=3.10.1 in /usr/local/lib/python3.10/dist-packages (from presidio-anonymizer<3.0.0,>=2.2.353->llama-index-postprocessor-presidio) (3.20.0)\n",
            "Requirement already satisfied: aiosignal>=1.1.2 in /usr/local/lib/python3.10/dist-packages (from aiohttp<4.0.0,>=3.8.6->llama-index-core<0.11.0,>=0.10.28->llama-index) (1.3.1)\n",
            "Requirement already satisfied: attrs>=17.3.0 in /usr/local/lib/python3.10/dist-packages (from aiohttp<4.0.0,>=3.8.6->llama-index-core<0.11.0,>=0.10.28->llama-index) (23.2.0)\n",
            "Requirement already satisfied: frozenlist>=1.1.1 in /usr/local/lib/python3.10/dist-packages (from aiohttp<4.0.0,>=3.8.6->llama-index-core<0.11.0,>=0.10.28->llama-index) (1.4.1)\n",
            "Requirement already satisfied: multidict<7.0,>=4.5 in /usr/local/lib/python3.10/dist-packages (from aiohttp<4.0.0,>=3.8.6->llama-index-core<0.11.0,>=0.10.28->llama-index) (6.0.5)\n",
            "Requirement already satisfied: yarl<2.0,>=1.0 in /usr/local/lib/python3.10/dist-packages (from aiohttp<4.0.0,>=3.8.6->llama-index-core<0.11.0,>=0.10.28->llama-index) (1.9.4)\n",
            "Requirement already satisfied: async-timeout<5.0,>=4.0 in /usr/local/lib/python3.10/dist-packages (from aiohttp<4.0.0,>=3.8.6->llama-index-core<0.11.0,>=0.10.28->llama-index) (4.0.3)\n",
            "Requirement already satisfied: soupsieve>1.2 in /usr/local/lib/python3.10/dist-packages (from beautifulsoup4<5.0.0,>=4.12.3->llama-index-readers-file<0.2.0,>=0.1.4->llama-index) (2.5)\n",
            "Requirement already satisfied: pydantic>=1.10 in /usr/local/lib/python3.10/dist-packages (from llamaindex-py-client<0.2.0,>=0.1.16->llama-index-core<0.11.0,>=0.10.28->llama-index) (2.6.4)\n",
            "Requirement already satisfied: anyio in /usr/local/lib/python3.10/dist-packages (from httpx->llama-index-core<0.11.0,>=0.10.28->llama-index) (3.7.1)\n",
            "Requirement already satisfied: certifi in /usr/local/lib/python3.10/dist-packages (from httpx->llama-index-core<0.11.0,>=0.10.28->llama-index) (2024.2.2)\n",
            "Requirement already satisfied: httpcore==1.* in /usr/local/lib/python3.10/dist-packages (from httpx->llama-index-core<0.11.0,>=0.10.28->llama-index) (1.0.5)\n",
            "Requirement already satisfied: idna in /usr/local/lib/python3.10/dist-packages (from httpx->llama-index-core<0.11.0,>=0.10.28->llama-index) (3.6)\n",
            "Requirement already satisfied: sniffio in /usr/local/lib/python3.10/dist-packages (from httpx->llama-index-core<0.11.0,>=0.10.28->llama-index) (1.3.1)\n",
            "Requirement already satisfied: h11<0.15,>=0.13 in /usr/local/lib/python3.10/dist-packages (from httpcore==1.*->httpx->llama-index-core<0.11.0,>=0.10.28->llama-index) (0.14.0)\n",
            "Requirement already satisfied: click in /usr/local/lib/python3.10/dist-packages (from nltk<4.0.0,>=3.8.1->llama-index-core<0.11.0,>=0.10.28->llama-index) (8.1.7)\n",
            "Requirement already satisfied: joblib in /usr/local/lib/python3.10/dist-packages (from nltk<4.0.0,>=3.8.1->llama-index-core<0.11.0,>=0.10.28->llama-index) (1.4.0)\n",
            "Requirement already satisfied: distro<2,>=1.7.0 in /usr/lib/python3/dist-packages (from openai>=1.14.0->llama-index-agent-openai<0.3.0,>=0.1.4->llama-index) (1.7.0)\n",
            "Requirement already satisfied: charset-normalizer<4,>=2 in /usr/local/lib/python3.10/dist-packages (from requests>=2.31.0->llama-index-core<0.11.0,>=0.10.28->llama-index) (3.3.2)\n",
            "Requirement already satisfied: urllib3<3,>=1.21.1 in /usr/local/lib/python3.10/dist-packages (from requests>=2.31.0->llama-index-core<0.11.0,>=0.10.28->llama-index) (2.0.7)\n",
            "Requirement already satisfied: spacy-legacy<3.1.0,>=3.0.11 in /usr/local/lib/python3.10/dist-packages (from spacy<4.0.0,>=3.4.4->presidio-analyzer<3.0.0,>=2.2.353->llama-index-postprocessor-presidio) (3.0.12)\n",
            "Requirement already satisfied: spacy-loggers<2.0.0,>=1.0.0 in /usr/local/lib/python3.10/dist-packages (from spacy<4.0.0,>=3.4.4->presidio-analyzer<3.0.0,>=2.2.353->llama-index-postprocessor-presidio) (1.0.5)\n",
            "Requirement already satisfied: murmurhash<1.1.0,>=0.28.0 in /usr/local/lib/python3.10/dist-packages (from spacy<4.0.0,>=3.4.4->presidio-analyzer<3.0.0,>=2.2.353->llama-index-postprocessor-presidio) (1.0.10)\n",
            "Requirement already satisfied: cymem<2.1.0,>=2.0.2 in /usr/local/lib/python3.10/dist-packages (from spacy<4.0.0,>=3.4.4->presidio-analyzer<3.0.0,>=2.2.353->llama-index-postprocessor-presidio) (2.0.8)\n",
            "Requirement already satisfied: preshed<3.1.0,>=3.0.2 in /usr/local/lib/python3.10/dist-packages (from spacy<4.0.0,>=3.4.4->presidio-analyzer<3.0.0,>=2.2.353->llama-index-postprocessor-presidio) (3.0.9)\n",
            "Requirement already satisfied: thinc<8.3.0,>=8.2.2 in /usr/local/lib/python3.10/dist-packages (from spacy<4.0.0,>=3.4.4->presidio-analyzer<3.0.0,>=2.2.353->llama-index-postprocessor-presidio) (8.2.3)\n",
            "Requirement already satisfied: wasabi<1.2.0,>=0.9.1 in /usr/local/lib/python3.10/dist-packages (from spacy<4.0.0,>=3.4.4->presidio-analyzer<3.0.0,>=2.2.353->llama-index-postprocessor-presidio) (1.1.2)\n",
            "Requirement already satisfied: srsly<3.0.0,>=2.4.3 in /usr/local/lib/python3.10/dist-packages (from spacy<4.0.0,>=3.4.4->presidio-analyzer<3.0.0,>=2.2.353->llama-index-postprocessor-presidio) (2.4.8)\n",
            "Requirement already satisfied: catalogue<2.1.0,>=2.0.6 in /usr/local/lib/python3.10/dist-packages (from spacy<4.0.0,>=3.4.4->presidio-analyzer<3.0.0,>=2.2.353->llama-index-postprocessor-presidio) (2.0.10)\n",
            "Requirement already satisfied: weasel<0.4.0,>=0.1.0 in /usr/local/lib/python3.10/dist-packages (from spacy<4.0.0,>=3.4.4->presidio-analyzer<3.0.0,>=2.2.353->llama-index-postprocessor-presidio) (0.3.4)\n",
            "Requirement already satisfied: typer<0.10.0,>=0.3.0 in /usr/local/lib/python3.10/dist-packages (from spacy<4.0.0,>=3.4.4->presidio-analyzer<3.0.0,>=2.2.353->llama-index-postprocessor-presidio) (0.9.4)\n",
            "Requirement already satisfied: smart-open<7.0.0,>=5.2.1 in /usr/local/lib/python3.10/dist-packages (from spacy<4.0.0,>=3.4.4->presidio-analyzer<3.0.0,>=2.2.353->llama-index-postprocessor-presidio) (6.4.0)\n",
            "Requirement already satisfied: jinja2 in /usr/local/lib/python3.10/dist-packages (from spacy<4.0.0,>=3.4.4->presidio-analyzer<3.0.0,>=2.2.353->llama-index-postprocessor-presidio) (3.1.3)\n",
            "Requirement already satisfied: setuptools in /usr/local/lib/python3.10/dist-packages (from spacy<4.0.0,>=3.4.4->presidio-analyzer<3.0.0,>=2.2.353->llama-index-postprocessor-presidio) (67.7.2)\n",
            "Requirement already satisfied: packaging>=20.0 in /usr/local/lib/python3.10/dist-packages (from spacy<4.0.0,>=3.4.4->presidio-analyzer<3.0.0,>=2.2.353->llama-index-postprocessor-presidio) (24.0)\n",
            "Requirement already satisfied: langcodes<4.0.0,>=3.2.0 in /usr/local/lib/python3.10/dist-packages (from spacy<4.0.0,>=3.4.4->presidio-analyzer<3.0.0,>=2.2.353->llama-index-postprocessor-presidio) (3.3.0)\n",
            "Requirement already satisfied: greenlet!=0.4.17 in /usr/local/lib/python3.10/dist-packages (from SQLAlchemy[asyncio]>=1.4.49->llama-index-core<0.11.0,>=0.10.28->llama-index) (3.0.3)\n",
            "Requirement already satisfied: mypy-extensions>=0.3.0 in /usr/local/lib/python3.10/dist-packages (from typing-inspect>=0.8.0->llama-index-core<0.11.0,>=0.10.28->llama-index) (1.0.0)\n",
            "Requirement already satisfied: marshmallow<4.0.0,>=3.18.0 in /usr/local/lib/python3.10/dist-packages (from dataclasses-json->llama-index-core<0.11.0,>=0.10.28->llama-index) (3.21.1)\n",
            "Requirement already satisfied: python-dateutil>=2.8.2 in /usr/local/lib/python3.10/dist-packages (from pandas->llama-index-core<0.11.0,>=0.10.28->llama-index) (2.8.2)\n",
            "Requirement already satisfied: pytz>=2020.1 in /usr/local/lib/python3.10/dist-packages (from pandas->llama-index-core<0.11.0,>=0.10.28->llama-index) (2023.4)\n",
            "Requirement already satisfied: tzdata>=2022.1 in /usr/local/lib/python3.10/dist-packages (from pandas->llama-index-core<0.11.0,>=0.10.28->llama-index) (2024.1)\n",
            "Requirement already satisfied: requests-file>=1.4 in /usr/local/lib/python3.10/dist-packages (from tldextract->presidio-analyzer<3.0.0,>=2.2.353->llama-index-postprocessor-presidio) (2.0.0)\n",
            "Requirement already satisfied: filelock>=3.0.8 in /usr/local/lib/python3.10/dist-packages (from tldextract->presidio-analyzer<3.0.0,>=2.2.353->llama-index-postprocessor-presidio) (3.13.4)\n",
            "Requirement already satisfied: exceptiongroup in /usr/local/lib/python3.10/dist-packages (from anyio->httpx->llama-index-core<0.11.0,>=0.10.28->llama-index) (1.2.0)\n",
            "Requirement already satisfied: annotated-types>=0.4.0 in /usr/local/lib/python3.10/dist-packages (from pydantic>=1.10->llamaindex-py-client<0.2.0,>=0.1.16->llama-index-core<0.11.0,>=0.10.28->llama-index) (0.6.0)\n",
            "Requirement already satisfied: pydantic-core==2.16.3 in /usr/local/lib/python3.10/dist-packages (from pydantic>=1.10->llamaindex-py-client<0.2.0,>=0.1.16->llama-index-core<0.11.0,>=0.10.28->llama-index) (2.16.3)\n",
            "Requirement already satisfied: six>=1.5 in /usr/local/lib/python3.10/dist-packages (from python-dateutil>=2.8.2->pandas->llama-index-core<0.11.0,>=0.10.28->llama-index) (1.16.0)\n",
            "Requirement already satisfied: blis<0.8.0,>=0.7.8 in /usr/local/lib/python3.10/dist-packages (from thinc<8.3.0,>=8.2.2->spacy<4.0.0,>=3.4.4->presidio-analyzer<3.0.0,>=2.2.353->llama-index-postprocessor-presidio) (0.7.11)\n",
            "Requirement already satisfied: confection<1.0.0,>=0.0.1 in /usr/local/lib/python3.10/dist-packages (from thinc<8.3.0,>=8.2.2->spacy<4.0.0,>=3.4.4->presidio-analyzer<3.0.0,>=2.2.353->llama-index-postprocessor-presidio) (0.1.4)\n",
            "Requirement already satisfied: cloudpathlib<0.17.0,>=0.7.0 in /usr/local/lib/python3.10/dist-packages (from weasel<0.4.0,>=0.1.0->spacy<4.0.0,>=3.4.4->presidio-analyzer<3.0.0,>=2.2.353->llama-index-postprocessor-presidio) (0.16.0)\n",
            "Requirement already satisfied: MarkupSafe>=2.0 in /usr/local/lib/python3.10/dist-packages (from jinja2->spacy<4.0.0,>=3.4.4->presidio-analyzer<3.0.0,>=2.2.353->llama-index-postprocessor-presidio) (2.1.5)\n"
          ]
        }
      ]
    },
    {
      "cell_type": "markdown",
      "source": [
        "# Title  \n",
        "For this example I just used OAuth.\n",
        "\n",
        "```\n",
        "# This is formatted as code\n",
        "```\n",
        "\n"
      ],
      "metadata": {
        "id": "brgZIMiuRnxc"
      }
    },
    {
      "cell_type": "code",
      "source": [
        "from presidio_analyzer import AnalyzerEngine\n",
        "from presidio_anonymizer import AnonymizerEngine, DeanonymizeEngine, OperatorConfig\n",
        "from presidio_anonymizer.operators import Operator, OperatorType\n",
        "\n",
        "from typing import Dict\n",
        "from pprint import pprint\n",
        "\n",
        "text = \"Peter gave his book to Heidi which later gave it to Nicole. Peter lives in London and Nicole lives in Tashkent.\"\n",
        "print(\"original text:\")\n",
        "pprint(text)\n",
        "analyzer = AnalyzerEngine()\n",
        "analyzer_results = analyzer.analyze(text=text, language=\"en\")\n",
        "print(\"analyzer results:\")\n",
        "pprint(analyzer_results)\n",
        "\n",
        "class InstanceCounterAnonymizer(Operator):\n",
        "    \"\"\"\n",
        "    Anonymizer which replaces the entity value\n",
        "    with an instance counter per entity.\n",
        "    \"\"\"\n",
        "\n",
        "    REPLACING_FORMAT = \"<{entity_type}_{index}>\"\n",
        "\n",
        "    def operate(self, text: str, params: Dict = None) -> str:\n",
        "        \"\"\"Anonymize the input text.\"\"\"\n",
        "\n",
        "        entity_type: str = params[\"entity_type\"]\n",
        "\n",
        "        # entity_mapping is a dict of dicts containing mappings per entity type\n",
        "        entity_mapping: Dict[Dict:str] = params[\"entity_mapping\"]\n",
        "\n",
        "        entity_mapping_for_type = entity_mapping.get(entity_type)\n",
        "        if not entity_mapping_for_type:\n",
        "            new_text = self.REPLACING_FORMAT.format(\n",
        "                entity_type=entity_type, index=0\n",
        "            )\n",
        "            entity_mapping[entity_type] = {}\n",
        "\n",
        "        else:\n",
        "            if text in entity_mapping_for_type:\n",
        "                return entity_mapping_for_type[text]\n",
        "\n",
        "            previous_index = self._get_last_index(entity_mapping_for_type)\n",
        "            new_text = self.REPLACING_FORMAT.format(\n",
        "                entity_type=entity_type, index=previous_index + 1\n",
        "            )\n",
        "\n",
        "        entity_mapping[entity_type][text] = new_text\n",
        "        return new_text\n",
        "\n",
        "    @staticmethod\n",
        "    def _get_last_index(entity_mapping_for_type: Dict) -> int:\n",
        "        \"\"\"Get the last index for a given entity type.\"\"\"\n",
        "\n",
        "        def get_index(value: str) -> int:\n",
        "            return int(value.split(\"_\")[-1][:-1])\n",
        "\n",
        "        indices = [get_index(v) for v in entity_mapping_for_type.values()]\n",
        "        return max(indices)\n",
        "\n",
        "    def validate(self, params: Dict = None) -> None:\n",
        "        \"\"\"Validate operator parameters.\"\"\"\n",
        "\n",
        "        if \"entity_mapping\" not in params:\n",
        "            raise ValueError(\"An input Dict called `entity_mapping` is required.\")\n",
        "        if \"entity_type\" not in params:\n",
        "            raise ValueError(\"An entity_type param is required.\")\n",
        "\n",
        "    def operator_name(self) -> str:\n",
        "        return \"entity_counter\"\n",
        "\n",
        "    def operator_type(self) -> OperatorType:\n",
        "        return OperatorType.Anonymize\n",
        "\n",
        "# Create Anonymizer engine and add the custom anonymizer\n",
        "anonymizer_engine = AnonymizerEngine()\n",
        "anonymizer_engine.add_anonymizer(InstanceCounterAnonymizer)\n",
        "\n",
        "# Create a mapping between entity types and counters\n",
        "entity_mapping = dict()\n",
        "\n",
        "# Anonymize the text\n",
        "\n",
        "anonymized_result = anonymizer_engine.anonymize(\n",
        "    text,\n",
        "    analyzer_results,\n",
        "    {\n",
        "        \"DEFAULT\": OperatorConfig(\n",
        "            \"entity_counter\", {\"entity_mapping\": entity_mapping}\n",
        "        )\n",
        "    },\n",
        ")\n",
        "\n",
        "print(anonymized_result.text)\n",
        "\n",
        "pprint(entity_mapping, indent=2)\n"
      ],
      "metadata": {
        "colab": {
          "base_uri": "https://localhost:8080/"
        },
        "id": "uQ9r95WDsSZO",
        "outputId": "86e70398-7da1-44d7-eacf-0ebdd8a5a790"
      },
      "execution_count": null,
      "outputs": [
        {
          "output_type": "stream",
          "name": "stderr",
          "text": [
            "WARNING:presidio-analyzer:configuration file /usr/local/lib/python3.10/dist-packages/conf/default.yaml not found.  Using default config: {'nlp_engine_name': 'spacy', 'models': [{'lang_code': 'en', 'model_name': 'en_core_web_lg'}]}.\n"
          ]
        },
        {
          "output_type": "stream",
          "name": "stdout",
          "text": [
            "original text:\n",
            "('Peter gave his book to Heidi which later gave it to Nicole. Peter lives in '\n",
            " 'London and Nicole lives in Tashkent.')\n",
            "configuration file /usr/local/lib/python3.10/dist-packages/conf/default.yaml not found.  Using default config: {'nlp_engine_name': 'spacy', 'models': [{'lang_code': 'en', 'model_name': 'en_core_web_lg'}]}.\n"
          ]
        },
        {
          "output_type": "stream",
          "name": "stderr",
          "text": [
            "WARNING:presidio-analyzer:configuration file is missing 'ner_model_configuration'. Using default\n"
          ]
        },
        {
          "output_type": "stream",
          "name": "stdout",
          "text": [
            "configuration file is missing 'ner_model_configuration'. Using default\n"
          ]
        },
        {
          "output_type": "stream",
          "name": "stderr",
          "text": [
            "WARNING:presidio-analyzer:model_to_presidio_entity_mapping is missing from configuration, using default\n"
          ]
        },
        {
          "output_type": "stream",
          "name": "stdout",
          "text": [
            "model_to_presidio_entity_mapping is missing from configuration, using default\n"
          ]
        },
        {
          "output_type": "stream",
          "name": "stderr",
          "text": [
            "WARNING:presidio-analyzer:low_score_entity_names is missing from configuration, using default\n"
          ]
        },
        {
          "output_type": "stream",
          "name": "stdout",
          "text": [
            "low_score_entity_names is missing from configuration, using default\n"
          ]
        },
        {
          "output_type": "stream",
          "name": "stderr",
          "text": [
            "WARNING:presidio-analyzer:labels_to_ignore is missing from configuration, using default\n"
          ]
        },
        {
          "output_type": "stream",
          "name": "stdout",
          "text": [
            "labels_to_ignore is missing from configuration, using default\n",
            "analyzer results:\n",
            "[type: PERSON, start: 0, end: 5, score: 0.85,\n",
            " type: PERSON, start: 23, end: 28, score: 0.85,\n",
            " type: PERSON, start: 52, end: 58, score: 0.85,\n",
            " type: PERSON, start: 60, end: 65, score: 0.85,\n",
            " type: LOCATION, start: 75, end: 81, score: 0.85,\n",
            " type: PERSON, start: 86, end: 92, score: 0.85,\n",
            " type: LOCATION, start: 102, end: 110, score: 0.85]\n",
            "<PERSON_1> gave his book to <PERSON_2> which later gave it to <PERSON_0>. <PERSON_1> lives in <LOCATION_1> and <PERSON_0> lives in <LOCATION_0>.\n",
            "{ 'LOCATION': {'London': '<LOCATION_1>', 'Tashkent': '<LOCATION_0>'},\n",
            "  'PERSON': { 'Heidi': '<PERSON_2>',\n",
            "              'Nicole': '<PERSON_0>',\n",
            "              'Peter': '<PERSON_1>'}}\n"
          ]
        }
      ]
    },
    {
      "cell_type": "code",
      "source": [
        "import logging\n",
        "import sys\n",
        "import re\n",
        "\n",
        "logging.basicConfig(stream=sys.stdout, level=logging.INFO)\n",
        "logging.getLogger().addHandler(logging.StreamHandler(stream=sys.stdout))\n",
        "\n",
        "from llama_index.core.postprocessor import (\n",
        "    PIINodePostprocessor,\n",
        "    NERPIINodePostprocessor,\n",
        ")\n",
        "from llama_index.llms.huggingface import HuggingFaceLLM\n",
        "from llama_index.core import Document, VectorStoreIndex\n",
        "from llama_index.core.schema import TextNode\n",
        "from llama_index.postprocessor.presidio import PresidioPIINodePostprocessor\n",
        "from llama_index.core.schema import NodeWithScore\n",
        "\n",
        "def extract_variables(presidio_new_nodes):\n",
        "    \"\"\"Extracts variables from Presidio output and groups them by sector.\"\"\"\n",
        "    sectors = {}\n",
        "\n",
        "    for node in presidio_new_nodes:\n",
        "        pii_type = node.node.metadata.get(\"__pii_node_info__\")\n",
        "        value = node.text\n",
        "\n",
        "        # Handle potential nested dictionaries in pii_type\n",
        "        if isinstance(pii_type, dict):\n",
        "            for key, sub_value in pii_type.items():\n",
        "                sector = key  # The top-level key represents the sector\n",
        "                label = sub_value\n",
        "                full_label = f\"<{sector}_{label}>\"\n",
        "                sectors.setdefault(sector, []).append(value)\n",
        "\n",
        "        else:\n",
        "            match = re.match(r\"<(.+)>\", pii_type)  # Extract sector from label\n",
        "            if match:\n",
        "                sector = match.group(1)\n",
        "                sectors.setdefault(sector, []).append(value)\n",
        "\n",
        "    return sectors\n",
        "\n",
        "text = \"\"\"\n",
        "Therapist Notes:\n",
        "Patient Name: Sarah Johnson\n",
        "DOB: 05/12/1985\n",
        "Session Date: 04/02/2024\n",
        "Sarah discussed her ongoing struggles with anxiety and depression. She mentioned that her symptoms have worsened since losing her job at TechCorp Inc. last month. Sarah revealed that she has been having suicidal thoughts and has considered overdosing on her prescribed Xanax medication. She expressed feeling hopeless about her future and her ability to provide for her two children, Emily (age 8) and Jacob (age 5). Sarah also shared that her mother, Mary Johnson, was recently diagnosed with breast cancer, which has added to her stress and feelings of overwhelm.\n",
        "\n",
        "Session Transcript:\n",
        "Therapist: Good morning, Michael. How have you been feeling since our last session?\n",
        "Michael: Not great, to be honest. I've been really struggling with my PTSD symptoms lately. The nightmares about my deployment in Afghanistan have been more frequent and intense. I keep reliving the IED explosion that killed my best friend, Chris Thompson. It happened on August 15, 2019, and I can't seem to shake the guilt and the memory of seeing his body torn apart. I've been self-medicating with alcohol more often, usually drinking a fifth of vodka each night just to fall asleep. My wife, Jessica, is really worried about me, and I'm scared that my drinking is going to ruin our marriage. I don't know how much longer I can keep going like this.\n",
        "\"\"\"\n",
        "presidio_node = TextNode(text=text)\n",
        "\n",
        "\n",
        "processor = PresidioPIINodePostprocessor()\n",
        "\n",
        "\n",
        "presidio_new_nodes = processor.postprocess_nodes(\n",
        "    [NodeWithScore(node=presidio_node)]\n",
        ")\n",
        "\n",
        "\n",
        "# After Presidio processing completes:\n",
        "results = presidio_new_nodes[0].node.metadata[\"__pii_node_info__\"]\n",
        "\n",
        "# Save the dictionary as a variable\n",
        "pii_data = results\n",
        "\n",
        "# Now you can use the 'pii_data' variable\n",
        "print(pii_data)\n",
        "\n"
      ],
      "metadata": {
        "id": "Y_1XjTLEfzAd"
      },
      "execution_count": null,
      "outputs": []
    },
    {
      "cell_type": "code",
      "source": [
        "from presidio_anonymizer import AnonymizerEngine\n",
        "from presidio_anonymizer.entities import OperatorConfig, EngineResult, RecognizerResult\n",
        "from faker import Faker\n",
        "\n",
        "\n",
        "fake = Faker()\n",
        "\n",
        "# Create faker function (note that it has to receive a value)\n",
        "def fake_name(x):\n",
        "    return fake.name()\n",
        "\n",
        "\n",
        "# Create custom operator for the PERSON entity\n",
        "operators = {\"PERSON\": OperatorConfig(\"custom\", {\"lambda\": fake_name})}\n",
        "\n",
        "# Analyzer output\n",
        "analyzer_results = [RecognizerResult(entity_type=\"PERSON\", start=11, end=18, score=0.8)]\n",
        "\n",
        "text_to_anonymize = \"My name is Raphael and I like to fish.\"\n",
        "\n",
        "anonymizer = AnonymizerEngine()\n",
        "\n",
        "anonymized_results = anonymizer.anonymize(\n",
        "    text=text_to_anonymize, analyzer_results=analyzer_results, operators=operators\n",
        ")\n",
        "\n",
        "print(anonymized_results.text)"
      ],
      "metadata": {
        "colab": {
          "base_uri": "https://localhost:8080/",
          "height": 393
        },
        "id": "Kl5qa7mroXyl",
        "outputId": "8ee05aec-037f-47e0-a781-71700b1952b8"
      },
      "execution_count": null,
      "outputs": [
        {
          "output_type": "error",
          "ename": "ModuleNotFoundError",
          "evalue": "No module named 'faker'",
          "traceback": [
            "\u001b[0;31m---------------------------------------------------------------------------\u001b[0m",
            "\u001b[0;31mModuleNotFoundError\u001b[0m                       Traceback (most recent call last)",
            "\u001b[0;32m<ipython-input-39-17adcada99fa>\u001b[0m in \u001b[0;36m<cell line: 3>\u001b[0;34m()\u001b[0m\n\u001b[1;32m      1\u001b[0m \u001b[0;32mfrom\u001b[0m \u001b[0mpresidio_anonymizer\u001b[0m \u001b[0;32mimport\u001b[0m \u001b[0mAnonymizerEngine\u001b[0m\u001b[0;34m\u001b[0m\u001b[0;34m\u001b[0m\u001b[0m\n\u001b[1;32m      2\u001b[0m \u001b[0;32mfrom\u001b[0m \u001b[0mpresidio_anonymizer\u001b[0m\u001b[0;34m.\u001b[0m\u001b[0mentities\u001b[0m \u001b[0;32mimport\u001b[0m \u001b[0mOperatorConfig\u001b[0m\u001b[0;34m,\u001b[0m \u001b[0mEngineResult\u001b[0m\u001b[0;34m,\u001b[0m \u001b[0mRecognizerResult\u001b[0m\u001b[0;34m\u001b[0m\u001b[0;34m\u001b[0m\u001b[0m\n\u001b[0;32m----> 3\u001b[0;31m \u001b[0;32mfrom\u001b[0m \u001b[0mfaker\u001b[0m \u001b[0;32mimport\u001b[0m \u001b[0mFaker\u001b[0m\u001b[0;34m\u001b[0m\u001b[0;34m\u001b[0m\u001b[0m\n\u001b[0m\u001b[1;32m      4\u001b[0m \u001b[0;34m\u001b[0m\u001b[0m\n\u001b[1;32m      5\u001b[0m \u001b[0;34m\u001b[0m\u001b[0m\n",
            "\u001b[0;31mModuleNotFoundError\u001b[0m: No module named 'faker'",
            "",
            "\u001b[0;31m---------------------------------------------------------------------------\u001b[0;32m\nNOTE: If your import is failing due to a missing package, you can\nmanually install dependencies using either !pip or !apt.\n\nTo view examples of installing some common dependencies, click the\n\"Open Examples\" button below.\n\u001b[0;31m---------------------------------------------------------------------------\u001b[0m\n"
          ],
          "errorDetails": {
            "actions": [
              {
                "action": "open_url",
                "actionText": "Open Examples",
                "url": "/notebooks/snippets/importing_libraries.ipynb"
              }
            ]
          }
        }
      ]
    }
  ]
}